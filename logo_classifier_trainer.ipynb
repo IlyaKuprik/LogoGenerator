{
 "cells": [
  {
   "cell_type": "code",
   "execution_count": 1,
   "metadata": {},
   "outputs": [],
   "source": [
    "import time\n",
    "import copy\n",
    "import numpy as np\n",
    "import torch\n",
    "import torch.nn as nn\n",
    "import torch.nn.functional as F\n",
    "import torch.optim as optim\n",
    "import torchvision\n",
    "from torchvision.datasets import ImageFolder\n",
    "from torchvision.transforms import transforms\n",
    "from torch.utils.data import DataLoader, random_split\n",
    "from tqdm import tqdm\n",
    "from sklearn import metrics \n",
    "import wandb\n",
    "\n",
    "device = torch.device('cuda' if torch.cuda.is_available() else 'cpu')"
   ]
  },
  {
   "cell_type": "code",
   "execution_count": 2,
   "metadata": {},
   "outputs": [],
   "source": [
    "def calc_metrics(model_predictions, true_values, threshold=0.5):\n",
    "    # print(model_predictions)\n",
    "    model_lables = [1 if i > threshold else 0 for i in model_predictions]\n",
    "    acc = metrics.accuracy_score(model_lables, true_values)\n",
    "    precision = metrics.precision_score(model_lables, true_values, average='weighted')\n",
    "    recall = metrics.recall_score(model_lables, true_values, average='weighted')\n",
    "\n",
    "    return {\"accuracy\": acc, \"recall\": recall, \"precision\": precision}"
   ]
  },
  {
   "cell_type": "code",
   "execution_count": 3,
   "metadata": {},
   "outputs": [],
   "source": [
    "# Задаем путь к папке с изображениями\n",
    "data_dir = './dataset'\n",
    "\n",
    "# Задаем размер изображений\n",
    "image_size = 224\n",
    "\n",
    "# Определяем трансформации, которые будут применяться к изображениям\n",
    "transform = transforms.Compose([\n",
    "    transforms.Resize((image_size, image_size)), \n",
    "    transforms.ToTensor(),\n",
    "    transforms.Normalize((0.485, 0.456, 0.406), (0.229, 0.224, 0.225))\n",
    "])\n",
    "\n",
    "# Создаем датасеты для каждой папки\n",
    "logos_dataset = ImageFolder(root=data_dir, transform=transform)\n",
    "\n",
    "# Задаем размеры для каждого набора данных\n",
    "train_ratio = 0.8\n",
    "val_ratio = 0.1\n",
    "test_ratio = 1 - train_ratio - val_ratio\n",
    "\n",
    "# Разделяем данные на train, val и test наборы\n",
    "logos_train_data, logos_val_data, logos_test_data = random_split(logos_dataset, [train_ratio, val_ratio, test_ratio])\n",
    "\n",
    "# Создаем загрузчики данных\n",
    "# train_loader = DataLoader(logos_train_data, batch_size=32, shuffle=True)\n",
    "# val_loader = DataLoader(logos_val_data, batch_size=32, shuffle=False)\n",
    "# test_loader = DataLoader(logos_test_data, batch_size=32, shuffle=False)\n",
    "\n",
    "sets = ['train', 'val', 'test']\n",
    "\n",
    "datasets = {\n",
    "    'train': logos_train_data,\n",
    "    'val': logos_val_data,\n",
    "    'test': logos_test_data\n",
    "}\n",
    "\n",
    "dataloaders = {i: DataLoader(datasets[i], batch_size=32, shuffle=True) for i in datasets.keys()}"
   ]
  },
  {
   "cell_type": "code",
   "execution_count": 4,
   "metadata": {},
   "outputs": [],
   "source": [
    "class LinearNet(nn.Module):\n",
    "    def __init__(self, backbone):\n",
    "        super(LinearNet, self).__init__()\n",
    "        \n",
    "        self.backbone = backbone\n",
    "        self.backbone.fc = nn.Linear(512, 512)\n",
    "        self.fc = nn.Linear(512, 1)\n",
    "        self.sig = nn.Sigmoid()\n",
    "        \n",
    "    def forward(self, x):\n",
    "        x = self.backbone(F.normalize(x))\n",
    "        x = self.fc(F.normalize(x))\n",
    "        return self.sig(x)"
   ]
  },
  {
   "cell_type": "code",
   "execution_count": 5,
   "metadata": {},
   "outputs": [
    {
     "name": "stderr",
     "output_type": "stream",
     "text": [
      "/Users/kuprik01/Projects/LogoGenaPipline/.venv/lib/python3.11/site-packages/torchvision/models/_utils.py:208: UserWarning: The parameter 'pretrained' is deprecated since 0.13 and may be removed in the future, please use 'weights' instead.\n",
      "  warnings.warn(\n",
      "/Users/kuprik01/Projects/LogoGenaPipline/.venv/lib/python3.11/site-packages/torchvision/models/_utils.py:223: UserWarning: Arguments other than a weight enum or `None` for 'weights' are deprecated since 0.13 and may be removed in the future. The current behavior is equivalent to passing `weights=ResNet18_Weights.IMAGENET1K_V1`. You can also use `weights=ResNet18_Weights.DEFAULT` to get the most up-to-date weights.\n",
      "  warnings.warn(msg)\n"
     ]
    }
   ],
   "source": [
    "resnet = torchvision.models.resnet18(pretrained=True)\n",
    "model = LinearNet(resnet)"
   ]
  },
  {
   "cell_type": "code",
   "execution_count": 8,
   "metadata": {},
   "outputs": [
    {
     "name": "stdout",
     "output_type": "stream",
     "text": [
      "Epoch 0/10...\n"
     ]
    },
    {
     "name": "stderr",
     "output_type": "stream",
     "text": [
      "100%|██████████| 26/26 [01:01<00:00,  2.37s/it]\n"
     ]
    },
    {
     "name": "stdout",
     "output_type": "stream",
     "text": [
      "Train loss: 22.225483542451492\n"
     ]
    },
    {
     "name": "stderr",
     "output_type": "stream",
     "text": [
      "100%|██████████| 4/4 [00:04<00:00,  1.02s/it]\n",
      "/Users/kuprik01/Projects/LogoGenaPipline/.venv/lib/python3.11/site-packages/sklearn/metrics/_classification.py:1344: UndefinedMetricWarning: Recall is ill-defined and being set to 0.0 in labels with no true samples. Use `zero_division` parameter to control this behavior.\n",
      "  _warn_prf(average, modifier, msg_start, len(result))\n"
     ]
    },
    {
     "name": "stdout",
     "output_type": "stream",
     "text": [
      "Val loss: 17.649717330932617\n",
      "Val metrics: <module 'sklearn.metrics' from '/Users/kuprik01/Projects/LogoGenaPipline/.venv/lib/python3.11/site-packages/sklearn/metrics/__init__.py'>\n",
      "Epoch 1/10...\n"
     ]
    },
    {
     "name": "stderr",
     "output_type": "stream",
     "text": [
      "100%|██████████| 26/26 [01:00<00:00,  2.34s/it]\n"
     ]
    },
    {
     "name": "stdout",
     "output_type": "stream",
     "text": [
      "Train loss: 21.832736278955753\n"
     ]
    },
    {
     "name": "stderr",
     "output_type": "stream",
     "text": [
      "100%|██████████| 4/4 [00:04<00:00,  1.02s/it]\n",
      "/Users/kuprik01/Projects/LogoGenaPipline/.venv/lib/python3.11/site-packages/sklearn/metrics/_classification.py:1344: UndefinedMetricWarning: Recall is ill-defined and being set to 0.0 in labels with no true samples. Use `zero_division` parameter to control this behavior.\n",
      "  _warn_prf(average, modifier, msg_start, len(result))\n"
     ]
    },
    {
     "name": "stdout",
     "output_type": "stream",
     "text": [
      "Val loss: 17.32621192932129\n",
      "Val metrics: <module 'sklearn.metrics' from '/Users/kuprik01/Projects/LogoGenaPipline/.venv/lib/python3.11/site-packages/sklearn/metrics/__init__.py'>\n",
      "Epoch 2/10...\n"
     ]
    },
    {
     "name": "stderr",
     "output_type": "stream",
     "text": [
      "100%|██████████| 26/26 [01:01<00:00,  2.35s/it]\n"
     ]
    },
    {
     "name": "stdout",
     "output_type": "stream",
     "text": [
      "Train loss: 21.33001951987927\n"
     ]
    },
    {
     "name": "stderr",
     "output_type": "stream",
     "text": [
      "100%|██████████| 4/4 [00:04<00:00,  1.02s/it]\n",
      "/Users/kuprik01/Projects/LogoGenaPipline/.venv/lib/python3.11/site-packages/sklearn/metrics/_classification.py:1344: UndefinedMetricWarning: Recall is ill-defined and being set to 0.0 in labels with no true samples. Use `zero_division` parameter to control this behavior.\n",
      "  _warn_prf(average, modifier, msg_start, len(result))\n"
     ]
    },
    {
     "name": "stdout",
     "output_type": "stream",
     "text": [
      "Val loss: 16.868223190307617\n",
      "Val metrics: <module 'sklearn.metrics' from '/Users/kuprik01/Projects/LogoGenaPipline/.venv/lib/python3.11/site-packages/sklearn/metrics/__init__.py'>\n",
      "Epoch 3/10...\n"
     ]
    },
    {
     "name": "stderr",
     "output_type": "stream",
     "text": [
      "100%|██████████| 26/26 [01:00<00:00,  2.33s/it]\n"
     ]
    },
    {
     "name": "stdout",
     "output_type": "stream",
     "text": [
      "Train loss: 20.663371425408585\n"
     ]
    },
    {
     "name": "stderr",
     "output_type": "stream",
     "text": [
      "100%|██████████| 4/4 [00:04<00:00,  1.08s/it]\n"
     ]
    },
    {
     "name": "stdout",
     "output_type": "stream",
     "text": [
      "Val loss: 16.185617446899414\n",
      "Val metrics: <module 'sklearn.metrics' from '/Users/kuprik01/Projects/LogoGenaPipline/.venv/lib/python3.11/site-packages/sklearn/metrics/__init__.py'>\n",
      "Epoch 4/10...\n"
     ]
    },
    {
     "name": "stderr",
     "output_type": "stream",
     "text": [
      "100%|██████████| 26/26 [00:59<00:00,  2.30s/it]\n"
     ]
    },
    {
     "name": "stdout",
     "output_type": "stream",
     "text": [
      "Train loss: 19.75419828066459\n"
     ]
    },
    {
     "name": "stderr",
     "output_type": "stream",
     "text": [
      "100%|██████████| 4/4 [00:03<00:00,  1.03it/s]\n"
     ]
    },
    {
     "name": "stdout",
     "output_type": "stream",
     "text": [
      "Val loss: 15.277521133422852\n",
      "Val metrics: <module 'sklearn.metrics' from '/Users/kuprik01/Projects/LogoGenaPipline/.venv/lib/python3.11/site-packages/sklearn/metrics/__init__.py'>\n",
      "Epoch 5/10...\n"
     ]
    },
    {
     "name": "stderr",
     "output_type": "stream",
     "text": [
      "100%|██████████| 26/26 [01:01<00:00,  2.35s/it]\n"
     ]
    },
    {
     "name": "stdout",
     "output_type": "stream",
     "text": [
      "Train loss: 18.63598100726421\n"
     ]
    },
    {
     "name": "stderr",
     "output_type": "stream",
     "text": [
      "100%|██████████| 4/4 [00:03<00:00,  1.02it/s]\n"
     ]
    },
    {
     "name": "stdout",
     "output_type": "stream",
     "text": [
      "Val loss: 14.52774715423584\n",
      "Val metrics: <module 'sklearn.metrics' from '/Users/kuprik01/Projects/LogoGenaPipline/.venv/lib/python3.11/site-packages/sklearn/metrics/__init__.py'>\n",
      "Epoch 6/10...\n"
     ]
    },
    {
     "name": "stderr",
     "output_type": "stream",
     "text": [
      "100%|██████████| 26/26 [01:01<00:00,  2.35s/it]\n"
     ]
    },
    {
     "name": "stdout",
     "output_type": "stream",
     "text": [
      "Train loss: 17.827528155767002\n"
     ]
    },
    {
     "name": "stderr",
     "output_type": "stream",
     "text": [
      "100%|██████████| 4/4 [00:04<00:00,  1.03s/it]\n"
     ]
    },
    {
     "name": "stdout",
     "output_type": "stream",
     "text": [
      "Val loss: 14.04560661315918\n",
      "Val metrics: <module 'sklearn.metrics' from '/Users/kuprik01/Projects/LogoGenaPipline/.venv/lib/python3.11/site-packages/sklearn/metrics/__init__.py'>\n",
      "Epoch 7/10...\n"
     ]
    },
    {
     "name": "stderr",
     "output_type": "stream",
     "text": [
      "100%|██████████| 26/26 [01:01<00:00,  2.36s/it]\n"
     ]
    },
    {
     "name": "stdout",
     "output_type": "stream",
     "text": [
      "Train loss: 17.29706501502257\n"
     ]
    },
    {
     "name": "stderr",
     "output_type": "stream",
     "text": [
      "100%|██████████| 4/4 [00:03<00:00,  1.01it/s]\n"
     ]
    },
    {
     "name": "stdout",
     "output_type": "stream",
     "text": [
      "Val loss: 13.688220977783203\n",
      "Val metrics: <module 'sklearn.metrics' from '/Users/kuprik01/Projects/LogoGenaPipline/.venv/lib/python3.11/site-packages/sklearn/metrics/__init__.py'>\n",
      "Epoch 8/10...\n"
     ]
    },
    {
     "name": "stderr",
     "output_type": "stream",
     "text": [
      "100%|██████████| 26/26 [01:06<00:00,  2.56s/it]\n"
     ]
    },
    {
     "name": "stdout",
     "output_type": "stream",
     "text": [
      "Train loss: 16.903294989695915\n"
     ]
    },
    {
     "name": "stderr",
     "output_type": "stream",
     "text": [
      "100%|██████████| 4/4 [00:06<00:00,  1.50s/it]\n"
     ]
    },
    {
     "name": "stdout",
     "output_type": "stream",
     "text": [
      "Val loss: 13.429288864135742\n",
      "Val metrics: <module 'sklearn.metrics' from '/Users/kuprik01/Projects/LogoGenaPipline/.venv/lib/python3.11/site-packages/sklearn/metrics/__init__.py'>\n",
      "Epoch 9/10...\n"
     ]
    },
    {
     "name": "stderr",
     "output_type": "stream",
     "text": [
      "100%|██████████| 26/26 [01:21<00:00,  3.14s/it]\n"
     ]
    },
    {
     "name": "stdout",
     "output_type": "stream",
     "text": [
      "Train loss: 16.654782658586136\n"
     ]
    },
    {
     "name": "stderr",
     "output_type": "stream",
     "text": [
      "100%|██████████| 4/4 [00:05<00:00,  1.49s/it]\n"
     ]
    },
    {
     "name": "stdout",
     "output_type": "stream",
     "text": [
      "Val loss: 13.251705169677734\n",
      "Val metrics: <module 'sklearn.metrics' from '/Users/kuprik01/Projects/LogoGenaPipline/.venv/lib/python3.11/site-packages/sklearn/metrics/__init__.py'>\n"
     ]
    },
    {
     "name": "stderr",
     "output_type": "stream",
     "text": [
      "wandb: Network error (ConnectionError), entering retry loop.\n"
     ]
    }
   ],
   "source": [
    "criterion = nn.BCEWithLogitsLoss()\n",
    "lr = 0.01\n",
    "optimizer = optim.SGD(model.parameters(), lr=lr, momentum=0.95)\n",
    "epochs = 10\n",
    "\n",
    "# pbar = tqdm.tqdm(total=wandb_config['epochs'])\n",
    "best_val_loss = 1e9\n",
    "\n",
    "for epoch in range(epochs):\n",
    "  # обучение\n",
    "  print(f\"Epoch {epoch}/{epochs}...\")\n",
    "  epoch_loss = 0\n",
    "  model.train()\n",
    "  for train_image, train_label in tqdm(dataloaders['train']):\n",
    "    train_image = train_image.to(device)\n",
    "    train_label = train_label.float().to(device).view(-1, 1)\n",
    "    output_train = model(train_image)\n",
    "    loss = criterion(output_train, train_label)\n",
    "    optimizer.zero_grad()\n",
    "    loss.backward(retain_graph=True)\n",
    "    optimizer.step()\n",
    "    epoch_loss += train_image.size(0) * loss.item()\n",
    "  print(f\"Train loss: {epoch_loss/len(dataloaders['train'])}\")\n",
    "  \n",
    "  model.eval()\n",
    "  # валидация\n",
    "  val_loss = 0\n",
    "  predictions = []\n",
    "  lables = []\n",
    "  for val_image, val_label in tqdm(dataloaders['val']):\n",
    "    val_image = val_image.to(device)\n",
    "    val_label = val_label.float().to(device).view(-1, 1)\n",
    "    output_val = model(val_image)\n",
    "  \n",
    "    predictions += output_val.squeeze().tolist()\n",
    "    lables += val_label.squeeze().tolist()\n",
    "    \n",
    "    loss_ = criterion(output_val, val_label)\n",
    "    val_loss += val_image.size(0) * loss_\n",
    "  val_loss /= len(dataloaders['val'])\n",
    "\n",
    "  metrics_dict = calc_metrics(predictions, lables, threshold=0.5)\n",
    "  metrics_dict['loss'] = epoch_loss/len(dataloaders['train'])\n",
    "  metrics_dict['val_loss'] = val_loss\n",
    "  # wandb.log(metrics_dict)\n",
    "\n",
    "  print(f\"Val loss: {val_loss}\")\n",
    "  print(f\"Val metrics: {metrics}\")\n",
    "  if val_loss < best_val_loss:\n",
    "    best_val_loss = val_loss\n",
    "    torch.save(model.state_dict(), f'./weights/best_weihts_{val_loss}.pt')\n",
    "  if (epoch+1)%5==0:\n",
    "    torch.save(model.state_dict(), f'./weights/{epoch}_weihts_{val_loss}.pt')\n",
    "\n",
    "  \n",
    "    "
   ]
  },
  {
   "cell_type": "code",
   "execution_count": 6,
   "metadata": {},
   "outputs": [
    {
     "data": {
      "text/plain": [
       "<All keys matched successfully>"
      ]
     },
     "execution_count": 6,
     "metadata": {},
     "output_type": "execute_result"
    }
   ],
   "source": [
    "model.load_state_dict(torch.load('weights/best_weihts_13.251705169677734.pt'))"
   ]
  },
  {
   "cell_type": "code",
   "execution_count": 7,
   "metadata": {},
   "outputs": [
    {
     "name": "stderr",
     "output_type": "stream",
     "text": [
      "100%|██████████| 4/4 [00:04<00:00,  1.01s/it]\n"
     ]
    },
    {
     "data": {
      "text/plain": [
       "{'accuracy': 1.0, 'recall': 1.0, 'precision': 1.0}"
      ]
     },
     "execution_count": 7,
     "metadata": {},
     "output_type": "execute_result"
    }
   ],
   "source": [
    "model.eval()\n",
    "\n",
    "predictions = []\n",
    "lables = []\n",
    "\n",
    "for val_image, val_label in tqdm(dataloaders['test']):\n",
    "    val_image = val_image.to(device)\n",
    "    val_label = val_label.float().to(device).view(-1, 1)\n",
    "    output_val = model(val_image)\n",
    "    predictions += output_val.squeeze().tolist()\n",
    "    lables += val_label.squeeze().tolist()\n",
    "\n",
    "calc_metrics(predictions, lables, threshold=0.5)"
   ]
  },
  {
   "cell_type": "code",
   "execution_count": 8,
   "metadata": {},
   "outputs": [
    {
     "data": {
      "text/plain": [
       "[(0.06779826432466507, 'example8.png'),\n",
       " (0.09797636419534683, 'example3.png'),\n",
       " (0.10543155670166016, 'example2.png'),\n",
       " (0.1177564412355423, 'example7.png'),\n",
       " (0.11834253370761871, 'example1.png'),\n",
       " (0.3665633201599121, 'example9.png'),\n",
       " (0.6575329303741455, 'example4.png'),\n",
       " (0.7490559816360474, 'example5.png'),\n",
       " (0.7507413625717163, 'example6.png')]"
      ]
     },
     "execution_count": 8,
     "metadata": {},
     "output_type": "execute_result"
    }
   ],
   "source": [
    "from PIL import Image\n",
    "import os\n",
    "\n",
    "def calc_score(ex):\n",
    "    return model(transform(ex).unsqueeze(0).to(device))\n",
    "\n",
    "scores = []\n",
    "for filename in os.listdir('./0'):\n",
    "    ex = Image.open(os.path.join('./0', filename)).convert('RGB')\n",
    "    scores.append((model(transform(ex).unsqueeze(0).to(device))[0][0].item(), filename))\n",
    "\n",
    "sorted(scores)"
   ]
  },
  {
   "cell_type": "code",
   "execution_count": null,
   "metadata": {},
   "outputs": [],
   "source": []
  }
 ],
 "metadata": {
  "kernelspec": {
   "display_name": ".venv",
   "language": "python",
   "name": "python3"
  },
  "language_info": {
   "codemirror_mode": {
    "name": "ipython",
    "version": 3
   },
   "file_extension": ".py",
   "mimetype": "text/x-python",
   "name": "python",
   "nbconvert_exporter": "python",
   "pygments_lexer": "ipython3",
   "version": "3.11.2"
  },
  "orig_nbformat": 4
 },
 "nbformat": 4,
 "nbformat_minor": 2
}
